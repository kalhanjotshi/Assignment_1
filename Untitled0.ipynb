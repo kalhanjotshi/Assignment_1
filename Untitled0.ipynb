{
  "nbformat": 4,
  "nbformat_minor": 0,
  "metadata": {
    "colab": {
      "provenance": []
    },
    "kernelspec": {
      "name": "python3",
      "display_name": "Python 3"
    },
    "language_info": {
      "name": "python"
    }
  },
  "cells": [
    {
      "cell_type": "markdown",
      "source": [
        " 1. Following are the Key Features of Python:\n",
        "*  widely used in the industry.\n",
        "*  simple and easy to learn thats why it makes easy for the beginners to learn this language.\n",
        "* Python has the large standard library with the structured codes and modules to perform the taskes.\n",
        "* Its flexibility allows it to be used across various domains, from web development to data analysis and automation.\n",
        "\n",
        "2.  Predefined keywords are the backbone of the python programmig which control the flow,logic, structure and behaviour of the programme.\n",
        "for eg:-\n"
      ],
      "metadata": {
        "id": "gywNiO8R5mLa"
      }
    },
    {
      "cell_type": "code",
      "source": [
        "if 19>10:\n",
        "   print(\"19 is greater than 10\") #here \"if\" is the predefined key word."
      ],
      "metadata": {
        "colab": {
          "base_uri": "https://localhost:8080/"
        },
        "id": "1xst9tTrUj1e",
        "outputId": "ff417838-dfef-4a04-8ac1-7db70230b73d"
      },
      "execution_count": null,
      "outputs": [
        {
          "output_type": "stream",
          "name": "stdout",
          "text": [
            "19 is greater than 10\n"
          ]
        }
      ]
    },
    {
      "cell_type": "code",
      "source": [
        "if 20<55:\n",
        "  print(\"20 is lessar than 55\")"
      ],
      "metadata": {
        "colab": {
          "base_uri": "https://localhost:8080/"
        },
        "id": "CkG28JViWPk3",
        "outputId": "3650aaee-b942-4516-ba95-73ca60aba4ca"
      },
      "execution_count": null,
      "outputs": [
        {
          "output_type": "stream",
          "name": "stdout",
          "text": [
            "20 is lessar than 55\n"
          ]
        }
      ]
    },
    {
      "cell_type": "markdown",
      "source": [
        "3. Mutable Objects:\n",
        "* mutable objects can be changed, let's say we have a list having some items, those items can be replaced by other item intstructed by the code.\n",
        "* Memory location remains the same.\n",
        "\n",
        "for eg:-"
      ],
      "metadata": {
        "id": "ClD8lSFxYjG_"
      }
    },
    {
      "cell_type": "code",
      "source": [
        "list__cont = [11,12,13,17,25,30,29]\n",
        "list__cont[0]"
      ],
      "metadata": {
        "colab": {
          "base_uri": "https://localhost:8080/"
        },
        "id": "2BsZ5VAgajGU",
        "outputId": "e5a0eb98-771b-4db0-fb07-cd8e484e1d5b"
      },
      "execution_count": null,
      "outputs": [
        {
          "output_type": "execute_result",
          "data": {
            "text/plain": [
              "11"
            ]
          },
          "metadata": {},
          "execution_count": 19
        }
      ]
    },
    {
      "cell_type": "code",
      "source": [
        "list__cont[-6]"
      ],
      "metadata": {
        "colab": {
          "base_uri": "https://localhost:8080/"
        },
        "id": "ar1uVGAXbItj",
        "outputId": "a7250b29-0cf6-40a2-ee5f-80dd581ed0a9"
      },
      "execution_count": null,
      "outputs": [
        {
          "output_type": "execute_result",
          "data": {
            "text/plain": [
              "12"
            ]
          },
          "metadata": {},
          "execution_count": 20
        }
      ]
    },
    {
      "cell_type": "code",
      "source": [
        "list__cont[-6]= \"kalhan\""
      ],
      "metadata": {
        "id": "OR2k5WXYbi7f"
      },
      "execution_count": null,
      "outputs": []
    },
    {
      "cell_type": "code",
      "source": [
        "list__cont[0: ]"
      ],
      "metadata": {
        "colab": {
          "base_uri": "https://localhost:8080/"
        },
        "id": "p74WIPtabqOz",
        "outputId": "3bf1e917-96a5-4c73-eab2-15adf981d67d"
      },
      "execution_count": null,
      "outputs": [
        {
          "output_type": "execute_result",
          "data": {
            "text/plain": [
              "[11, 'kalhan', 13, 17, 25, 30, 29]"
            ]
          },
          "metadata": {},
          "execution_count": 22
        }
      ]
    },
    {
      "cell_type": "code",
      "source": [
        "#Hence '12' in the list has been replaced or changed by 'Kalhan' only the items in the list can be changed or replaced."
      ],
      "metadata": {
        "id": "PfaYRITAbyR4"
      },
      "execution_count": null,
      "outputs": []
    },
    {
      "cell_type": "markdown",
      "source": [
        "   Immutable Objects:\n",
        "   * these are the objects which cannot be changed or replaced.\n",
        "   let's we have a list having an item only, the letters of the item cannot be changed.\n",
        "   * new memory location is created for that.\n",
        "\n",
        "   for eg:-"
      ],
      "metadata": {
        "id": "hvAPBGz6cIiK"
      }
    },
    {
      "cell_type": "code",
      "source": [
        "list__cont = [\"kalhanjotshi\"]# \"kalhanjotshi\"is a string of which letter cannot be changed.\n",
        "list__cont[3] = r\n",
        "list__cont"
      ],
      "metadata": {
        "colab": {
          "base_uri": "https://localhost:8080/",
          "height": 176
        },
        "id": "14ZHOpw4c2zn",
        "outputId": "cd6c27a0-7322-4d67-9524-fe376ac2a321"
      },
      "execution_count": null,
      "outputs": [
        {
          "output_type": "error",
          "ename": "NameError",
          "evalue": "name 'r' is not defined",
          "traceback": [
            "\u001b[0;31m---------------------------------------------------------------------------\u001b[0m",
            "\u001b[0;31mNameError\u001b[0m                                 Traceback (most recent call last)",
            "\u001b[0;32m<ipython-input-27-9810864cf923>\u001b[0m in \u001b[0;36m<cell line: 2>\u001b[0;34m()\u001b[0m\n\u001b[1;32m      1\u001b[0m \u001b[0mlist__cont\u001b[0m \u001b[0;34m=\u001b[0m \u001b[0;34m[\u001b[0m\u001b[0;34m\"kalhanjotshi\"\u001b[0m\u001b[0;34m]\u001b[0m\u001b[0;31m# \"kalhanjotshi\"is a string of which letter cannot be changed.\u001b[0m\u001b[0;34m\u001b[0m\u001b[0;34m\u001b[0m\u001b[0m\n\u001b[0;32m----> 2\u001b[0;31m \u001b[0mlist__cont\u001b[0m\u001b[0;34m[\u001b[0m\u001b[0;36m3\u001b[0m\u001b[0;34m]\u001b[0m \u001b[0;34m=\u001b[0m \u001b[0mr\u001b[0m\u001b[0;34m\u001b[0m\u001b[0;34m\u001b[0m\u001b[0m\n\u001b[0m\u001b[1;32m      3\u001b[0m \u001b[0mlist__cont\u001b[0m\u001b[0;34m\u001b[0m\u001b[0;34m\u001b[0m\u001b[0m\n",
            "\u001b[0;31mNameError\u001b[0m: name 'r' is not defined"
          ]
        }
      ]
    },
    {
      "cell_type": "markdown",
      "source": [
        "see. an error has occured. #strings are immutable objects"
      ],
      "metadata": {
        "id": "6lwAyNOoeTEl"
      }
    },
    {
      "cell_type": "markdown",
      "source": [
        "4. TYPE OF OPERATORS\n",
        "\n",
        "i. Aerthamatic Operatrs: +,-,*,/\n",
        "For eg:-"
      ],
      "metadata": {
        "id": "f_WQ7uc1efe1"
      }
    },
    {
      "cell_type": "code",
      "source": [
        "a=9\n",
        "b=12\n",
        "add = a+b\n",
        "add"
      ],
      "metadata": {
        "colab": {
          "base_uri": "https://localhost:8080/"
        },
        "id": "Vxb1b0iZf5vO",
        "outputId": "a265ec03-1d37-42aa-fa64-58137d8d15b0"
      },
      "execution_count": null,
      "outputs": [
        {
          "output_type": "execute_result",
          "data": {
            "text/plain": [
              "21"
            ]
          },
          "metadata": {},
          "execution_count": 28
        }
      ]
    },
    {
      "cell_type": "code",
      "source": [
        "subtract = b- a\n",
        "subtract"
      ],
      "metadata": {
        "colab": {
          "base_uri": "https://localhost:8080/"
        },
        "id": "lMwJvRBBgCIa",
        "outputId": "f9c3d049-3370-49de-905e-4a1d0cbc5c9e"
      },
      "execution_count": null,
      "outputs": [
        {
          "output_type": "execute_result",
          "data": {
            "text/plain": [
              "3"
            ]
          },
          "metadata": {},
          "execution_count": 30
        }
      ]
    },
    {
      "cell_type": "code",
      "source": [
        "multiply = a*b\n",
        "multiply"
      ],
      "metadata": {
        "colab": {
          "base_uri": "https://localhost:8080/"
        },
        "id": "p4Oz8EnZgJe4",
        "outputId": "0996e93c-a9c7-4bbd-bc03-2da448f64923"
      },
      "execution_count": null,
      "outputs": [
        {
          "output_type": "execute_result",
          "data": {
            "text/plain": [
              "108"
            ]
          },
          "metadata": {},
          "execution_count": 31
        }
      ]
    },
    {
      "cell_type": "code",
      "source": [
        "divide = b/a\n",
        "divide"
      ],
      "metadata": {
        "colab": {
          "base_uri": "https://localhost:8080/"
        },
        "id": "OMzA26wTgSn3",
        "outputId": "65565592-07d9-43e4-d490-d74878fb5d45"
      },
      "execution_count": null,
      "outputs": [
        {
          "output_type": "execute_result",
          "data": {
            "text/plain": [
              "1.3333333333333333"
            ]
          },
          "metadata": {},
          "execution_count": 32
        }
      ]
    },
    {
      "cell_type": "markdown",
      "source": [
        "ii. Modolous operator>>> \"%\" for the remainder."
      ],
      "metadata": {
        "id": "vBM-fp15gt-X"
      }
    },
    {
      "cell_type": "code",
      "source": [
        "a = 25\n",
        "b =7\n",
        "a%b"
      ],
      "metadata": {
        "colab": {
          "base_uri": "https://localhost:8080/"
        },
        "id": "hWIPuC8PgYCF",
        "outputId": "7e949002-381c-433b-c9b9-18324a250aaa"
      },
      "execution_count": null,
      "outputs": [
        {
          "output_type": "execute_result",
          "data": {
            "text/plain": [
              "4"
            ]
          },
          "metadata": {},
          "execution_count": 33
        }
      ]
    },
    {
      "cell_type": "markdown",
      "source": [
        "iii. Exponention operator>>> \"**\"  means, power eg: 3^2= 9"
      ],
      "metadata": {
        "id": "7YOZbc-ThEUG"
      }
    },
    {
      "cell_type": "code",
      "source": [
        "3**2"
      ],
      "metadata": {
        "colab": {
          "base_uri": "https://localhost:8080/"
        },
        "id": "gVAecGV7hBNX",
        "outputId": "b69cde73-685e-422f-ca2d-469c5180bb28"
      },
      "execution_count": null,
      "outputs": [
        {
          "output_type": "execute_result",
          "data": {
            "text/plain": [
              "9"
            ]
          },
          "metadata": {},
          "execution_count": 34
        }
      ]
    },
    {
      "cell_type": "code",
      "source": [
        "2**100"
      ],
      "metadata": {
        "colab": {
          "base_uri": "https://localhost:8080/"
        },
        "id": "O51UuB_ehpIW",
        "outputId": "1c96a97e-f8f8-4b89-dfb1-512fe6a5f157"
      },
      "execution_count": null,
      "outputs": [
        {
          "output_type": "execute_result",
          "data": {
            "text/plain": [
              "1267650600228229401496703205376"
            ]
          },
          "metadata": {},
          "execution_count": 35
        }
      ]
    },
    {
      "cell_type": "markdown",
      "source": [
        "iv. Floor Operator>>> \"//\" means removing the decimal. for eg. if 19/5= 3.8 it will be 3.\n"
      ],
      "metadata": {
        "id": "QopL1kC_hvRx"
      }
    },
    {
      "cell_type": "code",
      "source": [
        "8//9"
      ],
      "metadata": {
        "colab": {
          "base_uri": "https://localhost:8080/"
        },
        "id": "ONKR7k24hsoO",
        "outputId": "ddf84a77-03ec-47e4-a54e-e8db9560956b"
      },
      "execution_count": null,
      "outputs": [
        {
          "output_type": "execute_result",
          "data": {
            "text/plain": [
              "0"
            ]
          },
          "metadata": {},
          "execution_count": 36
        }
      ]
    },
    {
      "cell_type": "code",
      "source": [
        "9//8"
      ],
      "metadata": {
        "colab": {
          "base_uri": "https://localhost:8080/"
        },
        "id": "Zc_aSOyKiZoN",
        "outputId": "c7cc5fc2-81b7-4012-9eca-d8fbbfe8e4bd"
      },
      "execution_count": null,
      "outputs": [
        {
          "output_type": "execute_result",
          "data": {
            "text/plain": [
              "1"
            ]
          },
          "metadata": {},
          "execution_count": 37
        }
      ]
    },
    {
      "cell_type": "code",
      "source": [
        "5//19"
      ],
      "metadata": {
        "colab": {
          "base_uri": "https://localhost:8080/"
        },
        "id": "UpsgTV4LicxX",
        "outputId": "98021c73-60ef-4f38-edde-e653e30a11da"
      },
      "execution_count": null,
      "outputs": [
        {
          "output_type": "execute_result",
          "data": {
            "text/plain": [
              "0"
            ]
          },
          "metadata": {},
          "execution_count": 38
        }
      ]
    },
    {
      "cell_type": "code",
      "source": [
        "19//5"
      ],
      "metadata": {
        "colab": {
          "base_uri": "https://localhost:8080/"
        },
        "id": "Jdwx2myyiqKj",
        "outputId": "87c925f7-efaa-491f-8457-e749878f7563"
      },
      "execution_count": null,
      "outputs": [
        {
          "output_type": "execute_result",
          "data": {
            "text/plain": [
              "3"
            ]
          },
          "metadata": {},
          "execution_count": 39
        }
      ]
    },
    {
      "cell_type": "markdown",
      "source": [
        "v. Comparison Operators>>> \"==\";\"!=\";\">=\";\"<=\"."
      ],
      "metadata": {
        "id": "kN-X7HHojA2I"
      }
    },
    {
      "cell_type": "code",
      "source": [
        "a=7\n",
        "b=2\n",
        "a==b"
      ],
      "metadata": {
        "colab": {
          "base_uri": "https://localhost:8080/"
        },
        "id": "-wHFZ-uOissG",
        "outputId": "189d6e14-98ac-41be-c672-97ab16043fb9"
      },
      "execution_count": null,
      "outputs": [
        {
          "output_type": "execute_result",
          "data": {
            "text/plain": [
              "False"
            ]
          },
          "metadata": {},
          "execution_count": 40
        }
      ]
    },
    {
      "cell_type": "code",
      "source": [
        "a!=b"
      ],
      "metadata": {
        "colab": {
          "base_uri": "https://localhost:8080/"
        },
        "id": "E907SIWXjiD1",
        "outputId": "353494be-2cfa-45d4-eb68-f56edfc9472d"
      },
      "execution_count": null,
      "outputs": [
        {
          "output_type": "execute_result",
          "data": {
            "text/plain": [
              "True"
            ]
          },
          "metadata": {},
          "execution_count": 41
        }
      ]
    },
    {
      "cell_type": "code",
      "source": [
        "a>=b"
      ],
      "metadata": {
        "colab": {
          "base_uri": "https://localhost:8080/"
        },
        "id": "FKg5MnbEjjy8",
        "outputId": "460d1e03-ee2e-42c5-ec56-e33292714d07"
      },
      "execution_count": null,
      "outputs": [
        {
          "output_type": "execute_result",
          "data": {
            "text/plain": [
              "True"
            ]
          },
          "metadata": {},
          "execution_count": 42
        }
      ]
    },
    {
      "cell_type": "code",
      "source": [
        "a<=b"
      ],
      "metadata": {
        "colab": {
          "base_uri": "https://localhost:8080/"
        },
        "id": "iqeFIgVOjmg9",
        "outputId": "cb622b64-a98b-4ffa-c67a-09af5fd0d7fe"
      },
      "execution_count": null,
      "outputs": [
        {
          "output_type": "execute_result",
          "data": {
            "text/plain": [
              "False"
            ]
          },
          "metadata": {},
          "execution_count": 43
        }
      ]
    },
    {
      "cell_type": "code",
      "source": [],
      "metadata": {
        "id": "Q1hqYyKKjosR"
      },
      "execution_count": null,
      "outputs": []
    },
    {
      "cell_type": "markdown",
      "source": [
        "vi. Logical Operators>>> \"and\" & \"or\"\n"
      ],
      "metadata": {
        "id": "KqCJ93AhkOOp"
      }
    },
    {
      "cell_type": "code",
      "source": [
        "True and True"
      ],
      "metadata": {
        "colab": {
          "base_uri": "https://localhost:8080/"
        },
        "id": "-UwWbcNaktN9",
        "outputId": "9946587a-d459-42c7-f46b-eb65ba0e51fa"
      },
      "execution_count": null,
      "outputs": [
        {
          "output_type": "execute_result",
          "data": {
            "text/plain": [
              "True"
            ]
          },
          "metadata": {},
          "execution_count": 45
        }
      ]
    },
    {
      "cell_type": "code",
      "source": [
        "True and False"
      ],
      "metadata": {
        "colab": {
          "base_uri": "https://localhost:8080/"
        },
        "id": "a-oTh9KOkuf_",
        "outputId": "d3e5c414-24ae-4004-d586-19f00b32c02c"
      },
      "execution_count": null,
      "outputs": [
        {
          "output_type": "execute_result",
          "data": {
            "text/plain": [
              "False"
            ]
          },
          "metadata": {},
          "execution_count": 46
        }
      ]
    },
    {
      "cell_type": "code",
      "source": [
        "False and True"
      ],
      "metadata": {
        "colab": {
          "base_uri": "https://localhost:8080/"
        },
        "id": "w6yBRp0XkwDq",
        "outputId": "0c8cdc6a-8f87-4705-a441-37f04503dc26"
      },
      "execution_count": null,
      "outputs": [
        {
          "output_type": "execute_result",
          "data": {
            "text/plain": [
              "False"
            ]
          },
          "metadata": {},
          "execution_count": 47
        }
      ]
    },
    {
      "cell_type": "code",
      "source": [
        "False and False"
      ],
      "metadata": {
        "colab": {
          "base_uri": "https://localhost:8080/"
        },
        "id": "-B6gSke_kxud",
        "outputId": "75afd963-ba55-4abe-896d-81f5c868fbc6"
      },
      "execution_count": null,
      "outputs": [
        {
          "output_type": "execute_result",
          "data": {
            "text/plain": [
              "False"
            ]
          },
          "metadata": {},
          "execution_count": 48
        }
      ]
    },
    {
      "cell_type": "code",
      "source": [
        "True or True"
      ],
      "metadata": {
        "colab": {
          "base_uri": "https://localhost:8080/"
        },
        "id": "YY4G8fvkkzJh",
        "outputId": "af961201-2c1d-452b-eee7-22dc15e1e52c"
      },
      "execution_count": null,
      "outputs": [
        {
          "output_type": "execute_result",
          "data": {
            "text/plain": [
              "True"
            ]
          },
          "metadata": {},
          "execution_count": 49
        }
      ]
    },
    {
      "cell_type": "code",
      "source": [
        "False or False"
      ],
      "metadata": {
        "colab": {
          "base_uri": "https://localhost:8080/"
        },
        "id": "FxL5cHxNk1Oq",
        "outputId": "20d01e20-807f-47b5-c211-ec3f316e94d9"
      },
      "execution_count": null,
      "outputs": [
        {
          "output_type": "execute_result",
          "data": {
            "text/plain": [
              "False"
            ]
          },
          "metadata": {},
          "execution_count": 50
        }
      ]
    },
    {
      "cell_type": "code",
      "source": [
        "True or False"
      ],
      "metadata": {
        "colab": {
          "base_uri": "https://localhost:8080/"
        },
        "id": "pELalrvhk3eF",
        "outputId": "48b6c5f2-1698-4bd1-ee95-43cfe80a6f57"
      },
      "execution_count": null,
      "outputs": [
        {
          "output_type": "execute_result",
          "data": {
            "text/plain": [
              "True"
            ]
          },
          "metadata": {},
          "execution_count": 51
        }
      ]
    },
    {
      "cell_type": "code",
      "source": [
        "False or True"
      ],
      "metadata": {
        "colab": {
          "base_uri": "https://localhost:8080/"
        },
        "id": "p00t4rC8k58X",
        "outputId": "7094d2fa-d9a0-4276-fe0e-f6310b5502a1"
      },
      "execution_count": null,
      "outputs": [
        {
          "output_type": "execute_result",
          "data": {
            "text/plain": [
              "True"
            ]
          },
          "metadata": {},
          "execution_count": 52
        }
      ]
    },
    {
      "cell_type": "markdown",
      "source": [
        "vii.Assignment Operators:\n"
      ],
      "metadata": {
        "id": "8xZdWBuWk9w9"
      }
    },
    {
      "cell_type": "code",
      "source": [
        "a=17\n",
        "b=3\n",
        "a+b"
      ],
      "metadata": {
        "colab": {
          "base_uri": "https://localhost:8080/"
        },
        "id": "jfi8Mf63k78H",
        "outputId": "535fc841-a6be-4c90-8e77-d34381abeb9e"
      },
      "execution_count": null,
      "outputs": [
        {
          "output_type": "execute_result",
          "data": {
            "text/plain": [
              "20"
            ]
          },
          "metadata": {},
          "execution_count": 53
        }
      ]
    },
    {
      "cell_type": "code",
      "source": [
        "a+=3\n",
        "a"
      ],
      "metadata": {
        "colab": {
          "base_uri": "https://localhost:8080/"
        },
        "id": "WHcboUT-mZcj",
        "outputId": "702424a6-3ab2-4a09-b445-c2cd0ed64dd6"
      },
      "execution_count": null,
      "outputs": [
        {
          "output_type": "execute_result",
          "data": {
            "text/plain": [
              "20"
            ]
          },
          "metadata": {},
          "execution_count": 54
        }
      ]
    },
    {
      "cell_type": "code",
      "source": [
        "a+b"
      ],
      "metadata": {
        "colab": {
          "base_uri": "https://localhost:8080/"
        },
        "id": "1GeEJCs8mc1F",
        "outputId": "65fe211d-eb5f-4d26-b561-fcdc0975d4b8"
      },
      "execution_count": null,
      "outputs": [
        {
          "output_type": "execute_result",
          "data": {
            "text/plain": [
              "23"
            ]
          },
          "metadata": {},
          "execution_count": 55
        }
      ]
    },
    {
      "cell_type": "code",
      "source": [
        "b-=3\n",
        "b"
      ],
      "metadata": {
        "colab": {
          "base_uri": "https://localhost:8080/"
        },
        "id": "xHiYl6qSmfto",
        "outputId": "3f823605-9337-4d62-f050-6cdedefcdba8"
      },
      "execution_count": null,
      "outputs": [
        {
          "output_type": "execute_result",
          "data": {
            "text/plain": [
              "0"
            ]
          },
          "metadata": {},
          "execution_count": 56
        }
      ]
    },
    {
      "cell_type": "code",
      "source": [
        "a+b"
      ],
      "metadata": {
        "colab": {
          "base_uri": "https://localhost:8080/"
        },
        "id": "_jGdTnP9mk-L",
        "outputId": "82269d76-2c95-4b85-e148-882c14746443"
      },
      "execution_count": null,
      "outputs": [
        {
          "output_type": "execute_result",
          "data": {
            "text/plain": [
              "20"
            ]
          },
          "metadata": {},
          "execution_count": 57
        }
      ]
    },
    {
      "cell_type": "code",
      "source": [
        "a+=10\n",
        "a"
      ],
      "metadata": {
        "colab": {
          "base_uri": "https://localhost:8080/"
        },
        "id": "yInBvODBmnGI",
        "outputId": "d038dfd8-63ba-46f1-864e-40627ac180b6"
      },
      "execution_count": null,
      "outputs": [
        {
          "output_type": "execute_result",
          "data": {
            "text/plain": [
              "30"
            ]
          },
          "metadata": {},
          "execution_count": 58
        }
      ]
    },
    {
      "cell_type": "code",
      "source": [
        "a+b"
      ],
      "metadata": {
        "colab": {
          "base_uri": "https://localhost:8080/"
        },
        "id": "Cplpo7NXmqUK",
        "outputId": "8c409a98-a4ce-4ac4-a187-acfb36f80ba2"
      },
      "execution_count": null,
      "outputs": [
        {
          "output_type": "execute_result",
          "data": {
            "text/plain": [
              "30"
            ]
          },
          "metadata": {},
          "execution_count": 59
        }
      ]
    },
    {
      "cell_type": "code",
      "source": [
        "b+=10\n",
        "b"
      ],
      "metadata": {
        "colab": {
          "base_uri": "https://localhost:8080/"
        },
        "id": "S84p_d92mrfZ",
        "outputId": "cea2c11e-4913-4e9f-dd33-74ff6d0cdc5f"
      },
      "execution_count": null,
      "outputs": [
        {
          "output_type": "execute_result",
          "data": {
            "text/plain": [
              "10"
            ]
          },
          "metadata": {},
          "execution_count": 60
        }
      ]
    },
    {
      "cell_type": "code",
      "source": [
        "a+b"
      ],
      "metadata": {
        "colab": {
          "base_uri": "https://localhost:8080/"
        },
        "id": "3AdXPxh7mwSj",
        "outputId": "e8eb86aa-d084-4797-f5ee-b04826caae3f"
      },
      "execution_count": null,
      "outputs": [
        {
          "output_type": "execute_result",
          "data": {
            "text/plain": [
              "40"
            ]
          },
          "metadata": {},
          "execution_count": 61
        }
      ]
    },
    {
      "cell_type": "markdown",
      "source": [
        "Viii. Membership operator:- \"in\" &\"not in\"."
      ],
      "metadata": {
        "id": "O0N3G-L5592V"
      }
    },
    {
      "cell_type": "code",
      "source": [
        "a =\"universe\""
      ],
      "metadata": {
        "id": "OCDgok6Zmxem"
      },
      "execution_count": null,
      "outputs": []
    },
    {
      "cell_type": "code",
      "source": [
        "\"i\" in a"
      ],
      "metadata": {
        "colab": {
          "base_uri": "https://localhost:8080/"
        },
        "id": "FKrqesea6fZK",
        "outputId": "10478564-5f66-4f49-dc1c-cd643909abe4"
      },
      "execution_count": null,
      "outputs": [
        {
          "output_type": "execute_result",
          "data": {
            "text/plain": [
              "True"
            ]
          },
          "metadata": {},
          "execution_count": 4
        }
      ]
    },
    {
      "cell_type": "code",
      "source": [
        "\"i\" not in a"
      ],
      "metadata": {
        "colab": {
          "base_uri": "https://localhost:8080/"
        },
        "id": "O_KtIiuW6heJ",
        "outputId": "ae18e4f1-3ed4-4deb-b467-5ec87bf1ced4"
      },
      "execution_count": null,
      "outputs": [
        {
          "output_type": "execute_result",
          "data": {
            "text/plain": [
              "False"
            ]
          },
          "metadata": {},
          "execution_count": 5
        }
      ]
    },
    {
      "cell_type": "code",
      "source": [
        "\"m\" in a"
      ],
      "metadata": {
        "colab": {
          "base_uri": "https://localhost:8080/"
        },
        "id": "pPyn43hU6kj6",
        "outputId": "aebbee4d-1741-4d00-9e77-79bb0f146996"
      },
      "execution_count": null,
      "outputs": [
        {
          "output_type": "execute_result",
          "data": {
            "text/plain": [
              "False"
            ]
          },
          "metadata": {},
          "execution_count": 6
        }
      ]
    },
    {
      "cell_type": "markdown",
      "source": [
        "ix. Identity Operator:-\n"
      ],
      "metadata": {
        "id": "2tYcR6l9752M"
      }
    },
    {
      "cell_type": "code",
      "source": [
        "a=9\n",
        "b=2\n",
        "a!=b"
      ],
      "metadata": {
        "colab": {
          "base_uri": "https://localhost:8080/"
        },
        "id": "Xv5611B56mm6",
        "outputId": "ad34c9d0-e97d-4a60-ee72-63812ac32910"
      },
      "execution_count": null,
      "outputs": [
        {
          "output_type": "execute_result",
          "data": {
            "text/plain": [
              "True"
            ]
          },
          "metadata": {},
          "execution_count": 7
        }
      ]
    },
    {
      "cell_type": "code",
      "source": [
        "a is b"
      ],
      "metadata": {
        "colab": {
          "base_uri": "https://localhost:8080/"
        },
        "id": "ek-ycDq28F0h",
        "outputId": "8d71a64f-683c-4536-b7b3-3705df1dc0df"
      },
      "execution_count": null,
      "outputs": [
        {
          "output_type": "execute_result",
          "data": {
            "text/plain": [
              "False"
            ]
          },
          "metadata": {},
          "execution_count": 8
        }
      ]
    },
    {
      "cell_type": "code",
      "source": [
        "b != a"
      ],
      "metadata": {
        "colab": {
          "base_uri": "https://localhost:8080/"
        },
        "id": "vHpbaans8NFE",
        "outputId": "77cef46c-1ed8-491d-c846-de5d1f75a634"
      },
      "execution_count": null,
      "outputs": [
        {
          "output_type": "execute_result",
          "data": {
            "text/plain": [
              "True"
            ]
          },
          "metadata": {},
          "execution_count": 10
        }
      ]
    },
    {
      "cell_type": "markdown",
      "source": [
        "x. Bitwise Operator:- \"&\" and \"|\":\n",
        "\n",
        "result is obtained on the basis of their binary codes."
      ],
      "metadata": {
        "id": "0btdB4Q48TW6"
      }
    },
    {
      "cell_type": "code",
      "source": [
        "10 & 10"
      ],
      "metadata": {
        "colab": {
          "base_uri": "https://localhost:8080/"
        },
        "id": "W3DEppWd8Q_R",
        "outputId": "ee5ba0d0-7393-4a03-fd2e-426b86c9cae8"
      },
      "execution_count": null,
      "outputs": [
        {
          "output_type": "execute_result",
          "data": {
            "text/plain": [
              "10"
            ]
          },
          "metadata": {},
          "execution_count": 11
        }
      ]
    },
    {
      "cell_type": "code",
      "source": [
        "11 & 15"
      ],
      "metadata": {
        "colab": {
          "base_uri": "https://localhost:8080/"
        },
        "id": "dmnWT8r4DWXR",
        "outputId": "72ff0078-c38b-4075-b629-5386d73707a6"
      },
      "execution_count": null,
      "outputs": [
        {
          "output_type": "execute_result",
          "data": {
            "text/plain": [
              "11"
            ]
          },
          "metadata": {},
          "execution_count": 12
        }
      ]
    },
    {
      "cell_type": "code",
      "source": [
        "bin(11)"
      ],
      "metadata": {
        "colab": {
          "base_uri": "https://localhost:8080/",
          "height": 36
        },
        "id": "qWxAnZpnDZDs",
        "outputId": "9a66ca62-d451-4003-8793-8e7ec242ad7a"
      },
      "execution_count": null,
      "outputs": [
        {
          "output_type": "execute_result",
          "data": {
            "text/plain": [
              "'0b1011'"
            ],
            "application/vnd.google.colaboratory.intrinsic+json": {
              "type": "string"
            }
          },
          "metadata": {},
          "execution_count": 13
        }
      ]
    },
    {
      "cell_type": "code",
      "source": [
        "bin(15)"
      ],
      "metadata": {
        "colab": {
          "base_uri": "https://localhost:8080/",
          "height": 36
        },
        "id": "7o1Kxy-ZDkTR",
        "outputId": "3d1b1ff5-884b-429e-9641-3f0925938023"
      },
      "execution_count": null,
      "outputs": [
        {
          "output_type": "execute_result",
          "data": {
            "text/plain": [
              "'0b1111'"
            ],
            "application/vnd.google.colaboratory.intrinsic+json": {
              "type": "string"
            }
          },
          "metadata": {},
          "execution_count": 14
        }
      ]
    },
    {
      "cell_type": "code",
      "source": [
        "8|11"
      ],
      "metadata": {
        "colab": {
          "base_uri": "https://localhost:8080/"
        },
        "id": "rCwWFAenDx8w",
        "outputId": "48ad0d12-a4cd-4286-8afb-c62d7b03dd0e"
      },
      "execution_count": null,
      "outputs": [
        {
          "output_type": "execute_result",
          "data": {
            "text/plain": [
              "11"
            ]
          },
          "metadata": {},
          "execution_count": 16
        }
      ]
    },
    {
      "cell_type": "code",
      "source": [
        "bin(8)"
      ],
      "metadata": {
        "colab": {
          "base_uri": "https://localhost:8080/",
          "height": 36
        },
        "id": "jzJWwyJ4D29d",
        "outputId": "dd21c3e8-6e1e-4915-ebe8-7eee2eb81b83"
      },
      "execution_count": null,
      "outputs": [
        {
          "output_type": "execute_result",
          "data": {
            "text/plain": [
              "'0b1000'"
            ],
            "application/vnd.google.colaboratory.intrinsic+json": {
              "type": "string"
            }
          },
          "metadata": {},
          "execution_count": 17
        }
      ]
    },
    {
      "cell_type": "code",
      "source": [
        "bin(11)"
      ],
      "metadata": {
        "colab": {
          "base_uri": "https://localhost:8080/",
          "height": 36
        },
        "id": "HRLbGI5gD5FB",
        "outputId": "4558008f-09e6-4244-f2da-64105792bb6b"
      },
      "execution_count": null,
      "outputs": [
        {
          "output_type": "execute_result",
          "data": {
            "text/plain": [
              "'0b1011'"
            ],
            "application/vnd.google.colaboratory.intrinsic+json": {
              "type": "string"
            }
          },
          "metadata": {},
          "execution_count": 18
        }
      ]
    },
    {
      "cell_type": "markdown",
      "source": [
        "xi. Bitwise Xor operator:- \"^\""
      ],
      "metadata": {
        "id": "Yew_D3x-EAqz"
      }
    },
    {
      "cell_type": "code",
      "source": [
        "7^10"
      ],
      "metadata": {
        "colab": {
          "base_uri": "https://localhost:8080/"
        },
        "id": "_T-hWemkD8PM",
        "outputId": "989c252e-b7e9-4538-f4cd-6afbf3c8b889"
      },
      "execution_count": null,
      "outputs": [
        {
          "output_type": "execute_result",
          "data": {
            "text/plain": [
              "13"
            ]
          },
          "metadata": {},
          "execution_count": 19
        }
      ]
    },
    {
      "cell_type": "code",
      "source": [
        "bin(7)"
      ],
      "metadata": {
        "colab": {
          "base_uri": "https://localhost:8080/",
          "height": 36
        },
        "id": "E9_KefuDEMDL",
        "outputId": "0981aa5c-6a9f-4bc1-e345-16e7498be317"
      },
      "execution_count": null,
      "outputs": [
        {
          "output_type": "execute_result",
          "data": {
            "text/plain": [
              "'0b111'"
            ],
            "application/vnd.google.colaboratory.intrinsic+json": {
              "type": "string"
            }
          },
          "metadata": {},
          "execution_count": 20
        }
      ]
    },
    {
      "cell_type": "code",
      "source": [
        "bin(10)"
      ],
      "metadata": {
        "colab": {
          "base_uri": "https://localhost:8080/",
          "height": 36
        },
        "id": "0nBLnkjwEPEX",
        "outputId": "a57afbf9-c699-417a-f023-c9b8480c4f0b"
      },
      "execution_count": null,
      "outputs": [
        {
          "output_type": "execute_result",
          "data": {
            "text/plain": [
              "'0b1010'"
            ],
            "application/vnd.google.colaboratory.intrinsic+json": {
              "type": "string"
            }
          },
          "metadata": {},
          "execution_count": 21
        }
      ]
    },
    {
      "cell_type": "code",
      "source": [
        "bin(13)"
      ],
      "metadata": {
        "colab": {
          "base_uri": "https://localhost:8080/",
          "height": 36
        },
        "id": "lefiNAzUERTD",
        "outputId": "c42f5cd7-c56c-4b56-cc7c-18ee1bfd3173"
      },
      "execution_count": null,
      "outputs": [
        {
          "output_type": "execute_result",
          "data": {
            "text/plain": [
              "'0b1101'"
            ],
            "application/vnd.google.colaboratory.intrinsic+json": {
              "type": "string"
            }
          },
          "metadata": {},
          "execution_count": 22
        }
      ]
    },
    {
      "cell_type": "markdown",
      "source": [
        "xii. Shift operators:\n",
        "\n",
        "- Right shift operator>>> remove the number of elements from the right by the number which is at \"lesser than\" place.\n"
      ],
      "metadata": {
        "id": "fi5BpKTsRdlW"
      }
    },
    {
      "cell_type": "code",
      "source": [
        "13 >> 3"
      ],
      "metadata": {
        "colab": {
          "base_uri": "https://localhost:8080/"
        },
        "id": "p91b55KwEbsY",
        "outputId": "869a886d-474b-42c4-974b-efa1ff7426b4"
      },
      "execution_count": null,
      "outputs": [
        {
          "output_type": "execute_result",
          "data": {
            "text/plain": [
              "1"
            ]
          },
          "metadata": {},
          "execution_count": 23
        }
      ]
    },
    {
      "cell_type": "code",
      "source": [
        "bin(13)  # end codes i,e 101 of 0b1101 has been removed so, 1."
      ],
      "metadata": {
        "colab": {
          "base_uri": "https://localhost:8080/",
          "height": 36
        },
        "id": "DPrWmelwT_Uq",
        "outputId": "f70bc3ee-5a89-4f03-b1b9-2f90190a1822"
      },
      "execution_count": null,
      "outputs": [
        {
          "output_type": "execute_result",
          "data": {
            "text/plain": [
              "'0b1101'"
            ],
            "application/vnd.google.colaboratory.intrinsic+json": {
              "type": "string"
            }
          },
          "metadata": {},
          "execution_count": 24
        }
      ]
    },
    {
      "cell_type": "markdown",
      "source": [
        "- Left shift operator>>>number which is in place of 'greater than' is the times the binary 0's is added to its code."
      ],
      "metadata": {
        "id": "Wwcmx7ZyUINr"
      }
    },
    {
      "cell_type": "code",
      "source": [
        "15 << 2"
      ],
      "metadata": {
        "colab": {
          "base_uri": "https://localhost:8080/"
        },
        "id": "YnA9aQepUFhp",
        "outputId": "7798e33d-a53d-4d67-f974-77bbfa01ee1f"
      },
      "execution_count": null,
      "outputs": [
        {
          "output_type": "execute_result",
          "data": {
            "text/plain": [
              "60"
            ]
          },
          "metadata": {},
          "execution_count": 28
        }
      ]
    },
    {
      "cell_type": "code",
      "source": [
        "bin(15)"
      ],
      "metadata": {
        "colab": {
          "base_uri": "https://localhost:8080/",
          "height": 36
        },
        "id": "EjyKstsIUVaH",
        "outputId": "1e249f94-afb6-4757-c461-4b3cf7690723"
      },
      "execution_count": null,
      "outputs": [
        {
          "output_type": "execute_result",
          "data": {
            "text/plain": [
              "'0b1111'"
            ],
            "application/vnd.google.colaboratory.intrinsic+json": {
              "type": "string"
            }
          },
          "metadata": {},
          "execution_count": 29
        }
      ]
    },
    {
      "cell_type": "code",
      "source": [
        "# 1111 is the code and 00 is added because 2 is the number of times so 111100, so this is the binary code of 60."
      ],
      "metadata": {
        "id": "ABS84ba6WSct"
      },
      "execution_count": null,
      "outputs": []
    },
    {
      "cell_type": "markdown",
      "source": [
        "5. Type casting>>> when the value of the the variable is missmatched by\\n mistake and throws it error, in order to correct it Type casting is used.'\n",
        "\n",
        "There Are two types of type casting: \"implicit typecasting\" and \"explicit type casting\"\n",
        "\n",
        "for eg:-"
      ],
      "metadata": {
        "id": "roepDcvCW6tf"
      }
    },
    {
      "cell_type": "code",
      "source": [
        "#EXPLICIT TYPE CASTING\n",
        "a = \"7\"\n",
        "b = 5\n",
        "a+b"
      ],
      "metadata": {
        "colab": {
          "base_uri": "https://localhost:8080/",
          "height": 176
        },
        "id": "mNu3mVrueYFB",
        "outputId": "5e10a268-c08f-449d-cfbc-99b9534de200"
      },
      "execution_count": null,
      "outputs": [
        {
          "output_type": "error",
          "ename": "TypeError",
          "evalue": "can only concatenate str (not \"int\") to str",
          "traceback": [
            "\u001b[0;31m---------------------------------------------------------------------------\u001b[0m",
            "\u001b[0;31mTypeError\u001b[0m                                 Traceback (most recent call last)",
            "\u001b[0;32m<ipython-input-30-c388e80ccfa6>\u001b[0m in \u001b[0;36m<cell line: 3>\u001b[0;34m()\u001b[0m\n\u001b[1;32m      1\u001b[0m \u001b[0ma\u001b[0m \u001b[0;34m=\u001b[0m \u001b[0;34m\"7\"\u001b[0m\u001b[0;34m\u001b[0m\u001b[0;34m\u001b[0m\u001b[0m\n\u001b[1;32m      2\u001b[0m \u001b[0mb\u001b[0m \u001b[0;34m=\u001b[0m \u001b[0;36m5\u001b[0m\u001b[0;34m\u001b[0m\u001b[0;34m\u001b[0m\u001b[0m\n\u001b[0;32m----> 3\u001b[0;31m \u001b[0ma\u001b[0m\u001b[0;34m+\u001b[0m\u001b[0mb\u001b[0m\u001b[0;34m\u001b[0m\u001b[0;34m\u001b[0m\u001b[0m\n\u001b[0m",
            "\u001b[0;31mTypeError\u001b[0m: can only concatenate str (not \"int\") to str"
          ]
        }
      ]
    },
    {
      "cell_type": "code",
      "source": [
        "#see it throws an error"
      ],
      "metadata": {
        "id": "IiVj19V8eg9V"
      },
      "execution_count": null,
      "outputs": []
    },
    {
      "cell_type": "code",
      "source": [
        "type(a)"
      ],
      "metadata": {
        "colab": {
          "base_uri": "https://localhost:8080/"
        },
        "id": "eEEJvudIelOD",
        "outputId": "0d062e65-914b-4710-cd67-043a2f8cf94e"
      },
      "execution_count": null,
      "outputs": [
        {
          "output_type": "execute_result",
          "data": {
            "text/plain": [
              "str"
            ]
          },
          "metadata": {},
          "execution_count": 32
        }
      ]
    },
    {
      "cell_type": "code",
      "source": [
        "#type of a if is string by mistake now it is corrected by type casting..."
      ],
      "metadata": {
        "id": "UC4C99k-eoew"
      },
      "execution_count": null,
      "outputs": []
    },
    {
      "cell_type": "code",
      "source": [
        "a = \"7\"\n",
        "b = 5\n",
        "int(a)+b"
      ],
      "metadata": {
        "colab": {
          "base_uri": "https://localhost:8080/"
        },
        "id": "pWjpNsfsfIlN",
        "outputId": "45c710e7-599a-405a-a0f4-bb3ecd8e6a46"
      },
      "execution_count": null,
      "outputs": [
        {
          "output_type": "execute_result",
          "data": {
            "text/plain": [
              "12"
            ]
          },
          "metadata": {},
          "execution_count": 33
        }
      ]
    },
    {
      "cell_type": "code",
      "source": [
        "#see it converts string into an integer then the code is executed correctly."
      ],
      "metadata": {
        "id": "2b_q5EBkfYPw"
      },
      "execution_count": null,
      "outputs": []
    },
    {
      "cell_type": "code",
      "source": [
        "b = 9.8\n",
        "type(b)\n",
        "float_value=int(b)\n",
        "type(float_value)"
      ],
      "metadata": {
        "colab": {
          "base_uri": "https://localhost:8080/"
        },
        "id": "X0Gn2bIqgHWf",
        "outputId": "ee24810f-b46f-441d-9338-4cd274f50886"
      },
      "execution_count": null,
      "outputs": [
        {
          "output_type": "execute_result",
          "data": {
            "text/plain": [
              "int"
            ]
          },
          "metadata": {},
          "execution_count": 35
        }
      ]
    },
    {
      "cell_type": "code",
      "source": [
        "#integer to float"
      ],
      "metadata": {
        "id": "EjKy3c4_gaIm"
      },
      "execution_count": null,
      "outputs": []
    },
    {
      "cell_type": "code",
      "source": [
        "b=57\n",
        "type(b)\n",
        "int_value=float(b)\n",
        "type(int_value)"
      ],
      "metadata": {
        "colab": {
          "base_uri": "https://localhost:8080/"
        },
        "id": "AsvmNlo1g3tH",
        "outputId": "283e041f-ee3f-4063-a620-bb90c8ea3784"
      },
      "execution_count": null,
      "outputs": [
        {
          "output_type": "execute_result",
          "data": {
            "text/plain": [
              "float"
            ]
          },
          "metadata": {},
          "execution_count": 37
        }
      ]
    },
    {
      "cell_type": "code",
      "source": [
        "#IMPLICIT TYPE CASTING: Python automatically understands the data type:\n",
        "\n",
        "a=7\n",
        "b=6\n",
        "a+b"
      ],
      "metadata": {
        "colab": {
          "base_uri": "https://localhost:8080/"
        },
        "id": "c-uFBQdvhMbI",
        "outputId": "b937f771-3921-4e54-9b1c-5683619a7892"
      },
      "execution_count": null,
      "outputs": [
        {
          "output_type": "execute_result",
          "data": {
            "text/plain": [
              "13"
            ]
          },
          "metadata": {},
          "execution_count": 38
        }
      ]
    },
    {
      "cell_type": "code",
      "source": [
        "b = 5.5\n",
        "a+b"
      ],
      "metadata": {
        "colab": {
          "base_uri": "https://localhost:8080/"
        },
        "id": "PkXuDLFuptOA",
        "outputId": "015b793c-4b33-4990-c17f-62d1898c4823"
      },
      "execution_count": null,
      "outputs": [
        {
          "output_type": "execute_result",
          "data": {
            "text/plain": [
              "12.5"
            ]
          },
          "metadata": {},
          "execution_count": 39
        }
      ]
    },
    {
      "cell_type": "code",
      "source": [
        "#it automatically understands.\n",
        "\n",
        "\n"
      ],
      "metadata": {
        "id": "KCMZuO1jp2Fa"
      },
      "execution_count": null,
      "outputs": []
    },
    {
      "cell_type": "code",
      "source": [
        "#conecatination:\n",
        "\n",
        "a=\"kalhan jotshi\"\n",
        "b= 8\n",
        "a+b #it will throw an error as one is string and other is integer"
      ],
      "metadata": {
        "colab": {
          "base_uri": "https://localhost:8080/",
          "height": 176
        },
        "id": "VOwE9zh-r9Ar",
        "outputId": "d09fb20c-7c0f-496d-8680-66e580a5cf73"
      },
      "execution_count": null,
      "outputs": [
        {
          "output_type": "error",
          "ename": "TypeError",
          "evalue": "can only concatenate str (not \"int\") to str",
          "traceback": [
            "\u001b[0;31m---------------------------------------------------------------------------\u001b[0m",
            "\u001b[0;31mTypeError\u001b[0m                                 Traceback (most recent call last)",
            "\u001b[0;32m<ipython-input-41-a92572abdcaa>\u001b[0m in \u001b[0;36m<cell line: 5>\u001b[0;34m()\u001b[0m\n\u001b[1;32m      3\u001b[0m \u001b[0ma\u001b[0m\u001b[0;34m=\u001b[0m\u001b[0;34m\"kalhan jotshi\"\u001b[0m\u001b[0;34m\u001b[0m\u001b[0;34m\u001b[0m\u001b[0m\n\u001b[1;32m      4\u001b[0m \u001b[0mb\u001b[0m\u001b[0;34m=\u001b[0m \u001b[0;36m8\u001b[0m\u001b[0;34m\u001b[0m\u001b[0;34m\u001b[0m\u001b[0m\n\u001b[0;32m----> 5\u001b[0;31m \u001b[0ma\u001b[0m\u001b[0;34m+\u001b[0m\u001b[0mb\u001b[0m\u001b[0;34m\u001b[0m\u001b[0;34m\u001b[0m\u001b[0m\n\u001b[0m",
            "\u001b[0;31mTypeError\u001b[0m: can only concatenate str (not \"int\") to str"
          ]
        }
      ]
    },
    {
      "cell_type": "code",
      "source": [
        "a= \"Kalhan Jotshi\"\n",
        "b= \"Rahul Handoo\"\n",
        "a+b"
      ],
      "metadata": {
        "colab": {
          "base_uri": "https://localhost:8080/",
          "height": 36
        },
        "id": "n-ht-VHTsFRL",
        "outputId": "93f45112-2573-4bfe-ccc7-65394e865999"
      },
      "execution_count": null,
      "outputs": [
        {
          "output_type": "execute_result",
          "data": {
            "text/plain": [
              "'Kalhan JotshiRahul Handoo'"
            ],
            "application/vnd.google.colaboratory.intrinsic+json": {
              "type": "string"
            }
          },
          "metadata": {},
          "execution_count": 42
        }
      ]
    },
    {
      "cell_type": "code",
      "source": [
        "a = \"kalhan\"\n",
        "b = \"Jotshi\"\n",
        "a + b"
      ],
      "metadata": {
        "colab": {
          "base_uri": "https://localhost:8080/",
          "height": 36
        },
        "id": "jonER_cSscxn",
        "outputId": "b898b11a-04b5-48b8-8cf3-acb90aa9cee2"
      },
      "execution_count": null,
      "outputs": [
        {
          "output_type": "execute_result",
          "data": {
            "text/plain": [
              "'kalhanJotshi'"
            ],
            "application/vnd.google.colaboratory.intrinsic+json": {
              "type": "string"
            }
          },
          "metadata": {},
          "execution_count": 44
        }
      ]
    },
    {
      "cell_type": "markdown",
      "source": [
        "6. Conditional statements>>> When a condition is given it helps to code decision.:  \"if\";\"if else\" ; \"if elif else\"; \"nested if else\""
      ],
      "metadata": {
        "id": "p6UQCd7XSiJ2"
      }
    },
    {
      "cell_type": "code",
      "source": [
        "# If statements\n",
        "a=7\n",
        "if a>3:\n",
        "  print(\"a is greater\")"
      ],
      "metadata": {
        "id": "OHHWohlss4xx",
        "colab": {
          "base_uri": "https://localhost:8080/"
        },
        "outputId": "e5d6fe2a-ef8c-445a-9b4c-37f6162c6b0c"
      },
      "execution_count": null,
      "outputs": [
        {
          "output_type": "stream",
          "name": "stdout",
          "text": [
            "a is greater\n"
          ]
        }
      ]
    },
    {
      "cell_type": "code",
      "source": [
        "if a<11:\n",
        "  print(\"a is lessar\")"
      ],
      "metadata": {
        "colab": {
          "base_uri": "https://localhost:8080/"
        },
        "id": "aDL05-WXZ9ns",
        "outputId": "ae66e2b8-3021-4cc4-e7a1-007b64fe3a3a"
      },
      "execution_count": null,
      "outputs": [
        {
          "output_type": "stream",
          "name": "stdout",
          "text": [
            "a is lessar\n"
          ]
        }
      ]
    },
    {
      "cell_type": "code",
      "source": [
        "lecture_5 = \"easily understood\"\n",
        "if lecture_5:\n",
        "  print(\" because of good teaching\")"
      ],
      "metadata": {
        "colab": {
          "base_uri": "https://localhost:8080/"
        },
        "id": "89Zf9lMEaIxa",
        "outputId": "1a76b33b-f0c6-4a3c-90e0-d6c52bbcf0d5"
      },
      "execution_count": null,
      "outputs": [
        {
          "output_type": "stream",
          "name": "stdout",
          "text": [
            " because of good teaching\n"
          ]
        }
      ]
    },
    {
      "cell_type": "code",
      "source": [
        "weather = \"sunny\"\n",
        "if weather:\n",
        "  print(\"i will go for swimming\")"
      ],
      "metadata": {
        "colab": {
          "base_uri": "https://localhost:8080/"
        },
        "id": "nTYzR741aj11",
        "outputId": "d6678819-27ad-45a9-ad40-a2a7564589de"
      },
      "execution_count": null,
      "outputs": [
        {
          "output_type": "stream",
          "name": "stdout",
          "text": [
            "i will go for swimming\n"
          ]
        }
      ]
    },
    {
      "cell_type": "code",
      "source": [
        "number = 34\n",
        "if number % 2 == 0:\n",
        "  print(\" number is even\")"
      ],
      "metadata": {
        "colab": {
          "base_uri": "https://localhost:8080/"
        },
        "id": "hCzH8rbVbAS3",
        "outputId": "078cb91d-9b61-4aca-94d5-6bb7d9f06ee1"
      },
      "execution_count": null,
      "outputs": [
        {
          "output_type": "stream",
          "name": "stdout",
          "text": [
            " number is even\n"
          ]
        }
      ]
    },
    {
      "cell_type": "code",
      "source": [
        "number = 27\n",
        "if number == 27:\n",
        "  print(\"number is multiple of 3\")"
      ],
      "metadata": {
        "colab": {
          "base_uri": "https://localhost:8080/"
        },
        "id": "10oFfPEsbhcd",
        "outputId": "73347686-a30c-4d58-8c54-b089dc65ad6d"
      },
      "execution_count": null,
      "outputs": [
        {
          "output_type": "stream",
          "name": "stdout",
          "text": [
            "number is multiple of 3\n"
          ]
        }
      ]
    },
    {
      "cell_type": "code",
      "source": [
        "marks = 80\n",
        "co_act = True\n",
        "if ((marks>35) and (co_act == True)):\n",
        "  print(\" student is all rounder\")"
      ],
      "metadata": {
        "colab": {
          "base_uri": "https://localhost:8080/"
        },
        "id": "uyhqEwaPbuE-",
        "outputId": "37f4a07d-0c70-416d-de29-4387809967a1"
      },
      "execution_count": null,
      "outputs": [
        {
          "output_type": "stream",
          "name": "stdout",
          "text": [
            " student is all rounder\n"
          ]
        }
      ]
    },
    {
      "cell_type": "code",
      "source": [
        "#if else statement:\n",
        "\n",
        "age = 21\n",
        "if (age >= 21):\n",
        "  print(\"he will be allowed to drink\")\n",
        "else:\n",
        "  print(\"he will be kicked out of the bar\")"
      ],
      "metadata": {
        "colab": {
          "base_uri": "https://localhost:8080/"
        },
        "id": "G_vMUt_9kafG",
        "outputId": "364a98e2-99e8-42ea-f6a5-9174c4912147"
      },
      "execution_count": null,
      "outputs": [
        {
          "output_type": "stream",
          "name": "stdout",
          "text": [
            "he will be allowed to drink\n"
          ]
        }
      ]
    },
    {
      "cell_type": "code",
      "source": [
        "gun = \"licence\"\n",
        "if (gun == \"licence\"):\n",
        "  print(\"he will be allowed to have it\")\n",
        "else:\n",
        "  print(\"he will be behind the bars\")"
      ],
      "metadata": {
        "colab": {
          "base_uri": "https://localhost:8080/"
        },
        "id": "rDSrw1IrpRnn",
        "outputId": "6838dc47-1357-4593-bcff-20658b652813"
      },
      "execution_count": null,
      "outputs": [
        {
          "output_type": "stream",
          "name": "stdout",
          "text": [
            "he will be allowed to have it\n"
          ]
        }
      ]
    },
    {
      "cell_type": "code",
      "source": [
        "licence_age = 15\n",
        "if (licence_age>=18):\n",
        "  print(\"he will get the licence\")\n",
        "else:\n",
        "  print(\"he will not get licence\")"
      ],
      "metadata": {
        "colab": {
          "base_uri": "https://localhost:8080/"
        },
        "id": "m_llcuQ6pyhr",
        "outputId": "28164c0c-e42d-4398-885e-de5798857cc0"
      },
      "execution_count": null,
      "outputs": [
        {
          "output_type": "stream",
          "name": "stdout",
          "text": [
            "he will not get licence\n"
          ]
        }
      ]
    },
    {
      "cell_type": "code",
      "source": [
        "#if elif else statement:\n",
        "a= 34.5\n",
        "if (a==35):\n",
        "  print(\"you are passed\")\n",
        "elif(a<35):\n",
        "  print(\"you are failed\")\n",
        "elif (a>=35):\n",
        "  print(\"passed\")\n",
        "else:\n",
        "  print(\"negative\")"
      ],
      "metadata": {
        "colab": {
          "base_uri": "https://localhost:8080/"
        },
        "id": "pM0fROdoqst1",
        "outputId": "0cb75a39-8a26-42f7-d119-251d8334c251"
      },
      "execution_count": null,
      "outputs": [
        {
          "output_type": "stream",
          "name": "stdout",
          "text": [
            "you are failed\n"
          ]
        }
      ]
    },
    {
      "cell_type": "code",
      "source": [
        "score = 90\n",
        "if((score>90) and (score<=100)):\n",
        "  print(\"1st division\")\n",
        "elif((score>=80) and (score<=90)):\n",
        "  print(\"2nd division\")\n",
        "elif((score>=70) and (score<=80)):\n",
        "  print(\"3rd division\")\n",
        "elif((score>=60) and (score<=70)):\n",
        "  print(\"4th division\")\n",
        "elif(score>=50) and (score<=60):\n",
        "  print(\"5th division\")\n",
        "else:\n",
        "  print(\"failed\")"
      ],
      "metadata": {
        "colab": {
          "base_uri": "https://localhost:8080/"
        },
        "id": "iqpHotjdtBl3",
        "outputId": "f4ce4672-2f4f-42a9-9a69-1a0744af132f"
      },
      "execution_count": null,
      "outputs": [
        {
          "output_type": "stream",
          "name": "stdout",
          "text": [
            "2nd division\n"
          ]
        }
      ]
    },
    {
      "cell_type": "code",
      "source": [
        "a=int(input(\"enter a num.\"))\n",
        "if a>100:\n",
        "  print(\"the num. is greater than hundred\")\n",
        "elif 0<=a<=100  :\n",
        "  print(\"num is positive and greater than zero\")\n",
        "else:\n",
        "  print(\"the num is negative\")"
      ],
      "metadata": {
        "colab": {
          "base_uri": "https://localhost:8080/"
        },
        "id": "qdscF_gZOXQ8",
        "outputId": "dc84e09e-67f6-42ed-a8cc-cd121f2418ec"
      },
      "execution_count": 7,
      "outputs": [
        {
          "output_type": "stream",
          "name": "stdout",
          "text": [
            "enter a num.-25\n",
            "the num is negative\n"
          ]
        }
      ]
    },
    {
      "cell_type": "code",
      "source": [
        "#creating a login page\n",
        "name = input(\"please enter a name\")\n",
        "email = input(\"please enter an email\")\n",
        "password = input(\"please enter a password\")\n",
        "\n",
        "if name==\"\":\n",
        "    print(\"please enter a name. it can't be empty\")\n",
        "else:\n",
        "    if \"@\" not in email:\n",
        "        print(\"enter a valid email address\")\n",
        "    else:\n",
        "        if len(password)>6:\n",
        "            print(\"invalid password\")\n",
        "        else:\n",
        "            print(\"login successful\")\n",
        "\n",
        ""
      ],
      "metadata": {
        "colab": {
          "base_uri": "https://localhost:8080/"
        },
        "id": "eEUI7Yrx9zou",
        "outputId": "711f3df3-5bae-43aa-de52-acc1e1ba5b39"
      },
      "execution_count": 3,
      "outputs": [
        {
          "output_type": "stream",
          "name": "stdout",
          "text": [
            "please enter a namekalhan\n",
            "please enter an emailkalhan@\n",
            "please enter a password1234\n",
            "login successful\n"
          ]
        }
      ]
    },
    {
      "cell_type": "markdown",
      "source": [
        "7. Types of Loop>>> while Loop and For loop.\n",
        "- while loops are used until the condition of the code is true.\n",
        "- for loop are used"
      ],
      "metadata": {
        "id": "chUQ1n_y8nvA"
      }
    },
    {
      "cell_type": "code",
      "source": [
        "#while loop\n",
        "a=10\n",
        "b=2\n",
        "while b<10:\n",
        "  print(b)\n",
        "  b=b+1"
      ],
      "metadata": {
        "colab": {
          "base_uri": "https://localhost:8080/"
        },
        "id": "umWTnU418vYK",
        "outputId": "8143c872-52a9-4b06-93bb-2f50fd1a9e08"
      },
      "execution_count": 2,
      "outputs": [
        {
          "output_type": "stream",
          "name": "stdout",
          "text": [
            "2\n",
            "3\n",
            "4\n",
            "5\n",
            "6\n",
            "7\n",
            "8\n",
            "9\n"
          ]
        }
      ]
    },
    {
      "cell_type": "code",
      "source": [
        "count_num = 4\n",
        "while count_num>-1:\n",
        "  print(count_num)\n",
        "  count_num = count_num - 1"
      ],
      "metadata": {
        "colab": {
          "base_uri": "https://localhost:8080/"
        },
        "id": "EVLX7ide9BLI",
        "outputId": "683e63e9-a163-408f-99f9-ee04a443601f"
      },
      "execution_count": 4,
      "outputs": [
        {
          "output_type": "stream",
          "name": "stdout",
          "text": [
            "4\n",
            "3\n",
            "2\n",
            "1\n",
            "0\n"
          ]
        }
      ]
    },
    {
      "cell_type": "code",
      "source": [],
      "metadata": {
        "id": "g28Xd-Yb_tjW"
      },
      "execution_count": null,
      "outputs": []
    }
  ]
}